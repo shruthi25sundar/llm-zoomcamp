{
 "cells": [
  {
   "cell_type": "code",
   "execution_count": 8,
   "id": "038f0478-727f-47ba-8ee3-d5dab0c86ef2",
   "metadata": {},
   "outputs": [],
   "source": [
    "# !wget https://raw.githubusercontent.com/DataTalksClub/llm-zoomcamp/main/01-intro/minsearch.py"
   ]
  },
  {
   "cell_type": "code",
   "execution_count": 9,
   "id": "4963ef52-ef96-40eb-a313-7454691e2b6a",
   "metadata": {},
   "outputs": [],
   "source": [
    "# !wget https://raw.githubusercontent.com/DataTalksClub/llm-zoomcamp/main/01-intro/documents.json"
   ]
  },
  {
   "cell_type": "code",
   "execution_count": 10,
   "id": "c18642ea-2b48-413c-aa98-b7dadb2708b8",
   "metadata": {},
   "outputs": [],
   "source": [
    "import minsearch "
   ]
  },
  {
   "cell_type": "code",
   "execution_count": 11,
   "id": "444b2085-66c0-4181-a422-c1d9d60a84f5",
   "metadata": {},
   "outputs": [],
   "source": [
    "import json"
   ]
  },
  {
   "cell_type": "code",
   "execution_count": 12,
   "id": "e5d32bae-bdde-4df0-b33a-d4882f405c1e",
   "metadata": {},
   "outputs": [],
   "source": [
    "with open('documents.json','r') as f_in:\n",
    "    docs_raw = json.load(f_in)\n",
    "    "
   ]
  },
  {
   "cell_type": "code",
   "execution_count": 13,
   "id": "67408ca0-012c-4c89-ad94-51eb5ce23c49",
   "metadata": {},
   "outputs": [],
   "source": [
    "documents= []\n",
    "\n",
    "for course_dict in docs_raw:\n",
    "    for doc in course_dict['documents']:\n",
    "        doc['course']=course_dict['course']\n",
    "        documents.append(doc)"
   ]
  },
  {
   "cell_type": "code",
   "execution_count": 14,
   "id": "8e83d40d-7b8a-4cfe-84c8-5cac01d85b87",
   "metadata": {},
   "outputs": [
    {
     "data": {
      "text/plain": [
       "{'text': \"The purpose of this document is to capture frequently asked technical questions\\nThe exact day and hour of the course will be 15th Jan 2024 at 17h00. The course will start with the first  “Office Hours'' live.1\\nSubscribe to course public Google Calendar (it works from Desktop only).\\nRegister before the course starts using this link.\\nJoin the course Telegram channel with announcements.\\nDon’t forget to register in DataTalks.Club's Slack and join the channel.\",\n",
       " 'section': 'General course-related questions',\n",
       " 'question': 'Course - When will the course start?',\n",
       " 'course': 'data-engineering-zoomcamp'}"
      ]
     },
     "execution_count": 14,
     "metadata": {},
     "output_type": "execute_result"
    }
   ],
   "source": [
    "documents[0]"
   ]
  },
  {
   "cell_type": "markdown",
   "id": "84dac2c8-030a-4b48-b023-bc4e6978adfb",
   "metadata": {},
   "source": [
    "*INDEXING DOCUMENTS WITH MINSEARCH LIBRARY*"
   ]
  },
  {
   "cell_type": "code",
   "execution_count": 15,
   "id": "79aa1660-cbee-4e02-90f5-49e8277a4539",
   "metadata": {},
   "outputs": [],
   "source": [
    "from minsearch import Index\n",
    "\n",
    "index = Index(\n",
    "    text_fields=[\"question\", \"text\", \"section\"],  #This we use for performacne search\n",
    "    keyword_fields=[\"course\"]\n",
    ")"
   ]
  },
  {
   "cell_type": "code",
   "execution_count": 16,
   "id": "3604f4ab-3fe6-4b97-8b9c-0c05c074b0f6",
   "metadata": {},
   "outputs": [],
   "source": [
    "# SELECT * WHERE course ='data-engineering-zoomcamp';"
   ]
  },
  {
   "cell_type": "code",
   "execution_count": 17,
   "id": "0062362d-1b9d-4781-aea1-ebd1156a8aa3",
   "metadata": {},
   "outputs": [],
   "source": [
    "q = \"the course has already started, cna I still enroll?\""
   ]
  },
  {
   "cell_type": "code",
   "execution_count": 18,
   "id": "c2e9145e-d617-4c40-9c5a-1efe372d8894",
   "metadata": {},
   "outputs": [
    {
     "data": {
      "text/plain": [
       "<minsearch.Index at 0x73ec9fe31810>"
      ]
     },
     "execution_count": 18,
     "metadata": {},
     "output_type": "execute_result"
    }
   ],
   "source": [
    "index.fit(documents)"
   ]
  },
  {
   "cell_type": "code",
   "execution_count": 19,
   "id": "1a913bb3-c1c8-40fe-a565-f5bc5e33c5eb",
   "metadata": {},
   "outputs": [],
   "source": [
    "boost = {'question': 3.0, 'section' : 0.5} #Question field is 3 times more important than textfield, we give section less importance \n",
    "\n",
    "results = index.search(\n",
    "    query = q,\n",
    "    filter_dict = {'course': 'data-engineering-zoomcamp'},\n",
    "    boost_dict = boost,\n",
    "    num_results = 5\n",
    ")"
   ]
  },
  {
   "cell_type": "code",
   "execution_count": 20,
   "id": "c55d218b-92a7-4ab6-bcf0-2473dd5db2ef",
   "metadata": {},
   "outputs": [
    {
     "data": {
      "text/plain": [
       "[{'text': \"Yes, even if you don't register, you're still eligible to submit the homeworks.\\nBe aware, however, that there will be deadlines for turning in the final projects. So don't leave everything for the last minute.\",\n",
       "  'section': 'General course-related questions',\n",
       "  'question': 'Course - Can I still join the course after the start date?',\n",
       "  'course': 'data-engineering-zoomcamp'},\n",
       " {'text': \"The purpose of this document is to capture frequently asked technical questions\\nThe exact day and hour of the course will be 15th Jan 2024 at 17h00. The course will start with the first  “Office Hours'' live.1\\nSubscribe to course public Google Calendar (it works from Desktop only).\\nRegister before the course starts using this link.\\nJoin the course Telegram channel with announcements.\\nDon’t forget to register in DataTalks.Club's Slack and join the channel.\",\n",
       "  'section': 'General course-related questions',\n",
       "  'question': 'Course - When will the course start?',\n",
       "  'course': 'data-engineering-zoomcamp'},\n",
       " {'text': 'Yes, we will keep all the materials after the course finishes, so you can follow the course at your own pace after it finishes.\\nYou can also continue looking at the homeworks and continue preparing for the next cohort. I guess you can also start working on your final capstone project.',\n",
       "  'section': 'General course-related questions',\n",
       "  'question': 'Course - Can I follow the course after it finishes?',\n",
       "  'course': 'data-engineering-zoomcamp'},\n",
       " {'text': 'GitHub - DataTalksClub data-engineering-zoomcamp#prerequisites',\n",
       "  'section': 'General course-related questions',\n",
       "  'question': 'Course - What are the prerequisites for this course?',\n",
       "  'course': 'data-engineering-zoomcamp'},\n",
       " {'text': 'You can start by installing and setting up all the dependencies and requirements:\\nGoogle cloud account\\nGoogle Cloud SDK\\nPython 3 (installed with Anaconda)\\nTerraform\\nGit\\nLook over the prerequisites and syllabus to see if you are comfortable with these subjects.',\n",
       "  'section': 'General course-related questions',\n",
       "  'question': 'Course - What can I do before the course starts?',\n",
       "  'course': 'data-engineering-zoomcamp'}]"
      ]
     },
     "execution_count": 20,
     "metadata": {},
     "output_type": "execute_result"
    }
   ],
   "source": [
    "results"
   ]
  },
  {
   "cell_type": "markdown",
   "id": "6dd993fa-9c6f-42d0-b8cb-0a83e949f2ba",
   "metadata": {},
   "source": [
    "### Generationg answers with Groq"
   ]
  },
  {
   "cell_type": "code",
   "execution_count": 21,
   "id": "80d4c6f7-4ab3-40ac-b6b4-19485914c60a",
   "metadata": {},
   "outputs": [],
   "source": [
    "import os\n",
    "\n",
    "from groq import Groq\n",
    "\n",
    "client = Groq(\n",
    "    api_key=os.environ.get(\"GROQ_API_KEY\"),\n",
    ")\n"
   ]
  },
  {
   "cell_type": "code",
   "execution_count": 22,
   "id": "2176064d-5793-4b2e-aa1a-90251968e8a3",
   "metadata": {},
   "outputs": [
    {
     "name": "stdout",
     "output_type": "stream",
     "text": [
      "I'm happy to help you with your question!\n",
      "\n",
      "In most cases, it is challenging to enroll in a course that has already started. Here are a few reasons why:\n",
      "\n",
      "1. **Classroom dynamics**: Once a course has begun, the classroom dynamics and discussions have already developed. Enrolling late can disrupt the flow and interaction among students, which might affect your learning experience.\n",
      "2. **Lack of preparedness**: If you enroll late, you might not have access to the course materials, assignments, or discussions that you would have missed. This can put you at a disadvantage in terms of understanding the subject matter.\n",
      "3. **Instructor availability**: Professors or instructors might not be able to accommodate new students who enrol late. They might have already planned the course schedule, and adjusting it could be impractical.\n",
      "\n",
      "That being said, there are some cases where you might still be able to enroll in a course that has already started:\n",
      "\n",
      "1. **Late enrollment policy**: Some educational institutions or courses might have a flexible enrollment policy that allows students to join mid-term. Check with the course administrator or registrar's office to see if this is an option.\n",
      "2. **Pascal or online courses**: For online or Pascal courses, it might be possible to join the course late, as you don't need to attend physical classroom sessions. Check with the course provider or instructor to see if this is feasible.\n",
      "3. **Special circumstances**: If you're experiencing a family emergency, health issue, or other unexpected situation that prevented you from enrolling earlier, you might want to contact the course administrator or instructor to discuss your situation.\n",
      "\n",
      "Before attempting to enroll in a course that has already started, I recommend:\n",
      "\n",
      "1. Contacting the course administrator or instructor to inquire about their late enrollment policy.\n",
      "2. Exploring alternative courses or programs that have a more flexible startup date.\n",
      "\n",
      "Remember to follow the course provider's policies and procedures, and be respectful of your fellow students' time and studies.\n",
      "\n",
      "Hope this helps, and don't hesitate to reach out if you have any more questions!\n"
     ]
    }
   ],
   "source": [
    "chat_completion = client.chat.completions.create(\n",
    "    messages=[\n",
    "        {\n",
    "            \"role\": \"user\",\n",
    "            \"content\": q,\n",
    "        }\n",
    "    ],\n",
    "    model=\"llama3-8b-8192\",\n",
    ")\n",
    "\n",
    "print(chat_completion.choices[0].message.content)"
   ]
  },
  {
   "cell_type": "code",
   "execution_count": 23,
   "id": "13beddfb-af94-4477-ac9a-46804a74933f",
   "metadata": {},
   "outputs": [],
   "source": [
    "#Best practices is to create a prompt template. It is necessary for advanced LLMs\n",
    "prompt_template = \"\"\"\n",
    "You're a course teaching assistant. Answer the QESTION based on the CONTEXT. Use only the facts from the CONTEXT from the FAQ database\n",
    "If the CONTEXT doesnt contain the answer, output NONE\n",
    "\n",
    "QUESTION:{question}\n",
    "\n",
    "CONTEXT : {context}\n",
    "\"\"\"\n",
    "\n",
    "context = \"\"\n",
    "\n",
    "for doc in results:\n",
    "    context = context + f\"section : {doc['section']}\\nquestion: {doc['question']}\\nanswer: {doc['text']}\\n\\n\""
   ]
  },
  {
   "cell_type": "code",
   "execution_count": 24,
   "id": "7e2875c1-6103-4ca0-bf86-f42661d85dfd",
   "metadata": {},
   "outputs": [
    {
     "name": "stdout",
     "output_type": "stream",
     "text": [
      "section : General course-related questions\n",
      "question: Course - Can I still join the course after the start date?\n",
      "answer: Yes, even if you don't register, you're still eligible to submit the homeworks.\n",
      "Be aware, however, that there will be deadlines for turning in the final projects. So don't leave everything for the last minute.\n",
      "\n",
      "section : General course-related questions\n",
      "question: Course - When will the course start?\n",
      "answer: The purpose of this document is to capture frequently asked technical questions\n",
      "The exact day and hour of the course will be 15th Jan 2024 at 17h00. The course will start with the first  “Office Hours'' live.1\n",
      "Subscribe to course public Google Calendar (it works from Desktop only).\n",
      "Register before the course starts using this link.\n",
      "Join the course Telegram channel with announcements.\n",
      "Don’t forget to register in DataTalks.Club's Slack and join the channel.\n",
      "\n",
      "section : General course-related questions\n",
      "question: Course - Can I follow the course after it finishes?\n",
      "answer: Yes, we will keep all the materials after the course finishes, so you can follow the course at your own pace after it finishes.\n",
      "You can also continue looking at the homeworks and continue preparing for the next cohort. I guess you can also start working on your final capstone project.\n",
      "\n",
      "section : General course-related questions\n",
      "question: Course - What are the prerequisites for this course?\n",
      "answer: GitHub - DataTalksClub data-engineering-zoomcamp#prerequisites\n",
      "\n",
      "section : General course-related questions\n",
      "question: Course - What can I do before the course starts?\n",
      "answer: You can start by installing and setting up all the dependencies and requirements:\n",
      "Google cloud account\n",
      "Google Cloud SDK\n",
      "Python 3 (installed with Anaconda)\n",
      "Terraform\n",
      "Git\n",
      "Look over the prerequisites and syllabus to see if you are comfortable with these subjects.\n",
      "\n",
      "\n"
     ]
    }
   ],
   "source": [
    "print(context)"
   ]
  },
  {
   "cell_type": "code",
   "execution_count": 25,
   "id": "f541e8c6-7622-40d1-92f5-f08a39c07a8d",
   "metadata": {},
   "outputs": [],
   "source": [
    "prompt = prompt_template.format(question = q,context = context).strip()"
   ]
  },
  {
   "cell_type": "code",
   "execution_count": 26,
   "id": "19992b0f-2aaf-4611-81bd-c05f75cc403c",
   "metadata": {},
   "outputs": [
    {
     "name": "stdout",
     "output_type": "stream",
     "text": [
      "You're a course teaching assistant. Answer the QESTION based on the CONTEXT. Use only the facts from the CONTEXT from the FAQ database\n",
      "If the CONTEXT doesnt contain the answer, output NONE\n",
      "\n",
      "QUESTION:the course has already started, cna I still enroll?\n",
      "\n",
      "CONTEXT : section : General course-related questions\n",
      "question: Course - Can I still join the course after the start date?\n",
      "answer: Yes, even if you don't register, you're still eligible to submit the homeworks.\n",
      "Be aware, however, that there will be deadlines for turning in the final projects. So don't leave everything for the last minute.\n",
      "\n",
      "section : General course-related questions\n",
      "question: Course - When will the course start?\n",
      "answer: The purpose of this document is to capture frequently asked technical questions\n",
      "The exact day and hour of the course will be 15th Jan 2024 at 17h00. The course will start with the first  “Office Hours'' live.1\n",
      "Subscribe to course public Google Calendar (it works from Desktop only).\n",
      "Register before the course starts using this link.\n",
      "Join the course Telegram channel with announcements.\n",
      "Don’t forget to register in DataTalks.Club's Slack and join the channel.\n",
      "\n",
      "section : General course-related questions\n",
      "question: Course - Can I follow the course after it finishes?\n",
      "answer: Yes, we will keep all the materials after the course finishes, so you can follow the course at your own pace after it finishes.\n",
      "You can also continue looking at the homeworks and continue preparing for the next cohort. I guess you can also start working on your final capstone project.\n",
      "\n",
      "section : General course-related questions\n",
      "question: Course - What are the prerequisites for this course?\n",
      "answer: GitHub - DataTalksClub data-engineering-zoomcamp#prerequisites\n",
      "\n",
      "section : General course-related questions\n",
      "question: Course - What can I do before the course starts?\n",
      "answer: You can start by installing and setting up all the dependencies and requirements:\n",
      "Google cloud account\n",
      "Google Cloud SDK\n",
      "Python 3 (installed with Anaconda)\n",
      "Terraform\n",
      "Git\n",
      "Look over the prerequisites and syllabus to see if you are comfortable with these subjects.\n"
     ]
    }
   ],
   "source": [
    "print(prompt)"
   ]
  },
  {
   "cell_type": "code",
   "execution_count": 27,
   "id": "9796f913-22c3-446b-a901-0241bd7274ac",
   "metadata": {},
   "outputs": [
    {
     "name": "stdout",
     "output_type": "stream",
     "text": [
      "Based on the CONTEXT, I can answer the QUESTION as follows:\n",
      "\n",
      "QUESTION: the course has already started, can I still enroll?\n",
      "\n",
      "ANSWER: Yes, even if you don't register, you're still eligible to submit the homeworks.\n"
     ]
    }
   ],
   "source": [
    "chat_completion = client.chat.completions.create(\n",
    "    messages=[\n",
    "        {\n",
    "            \"role\": \"user\",\n",
    "            \"content\": prompt,\n",
    "        }\n",
    "    ],\n",
    "    model=\"llama3-8b-8192\",\n",
    ")\n",
    "\n",
    "print(chat_completion.choices[0].message.content)"
   ]
  },
  {
   "cell_type": "markdown",
   "id": "efecfc62-1f34-4c7e-a252-f9c282e0eeec",
   "metadata": {},
   "source": [
    "*Cleaning the Code*"
   ]
  },
  {
   "cell_type": "code",
   "execution_count": 28,
   "id": "245bb1b8-c3d4-4fe5-8715-905f8dfbe775",
   "metadata": {},
   "outputs": [],
   "source": [
    "def search(query):\n",
    "    boost = {'question': 3.0, 'section' : 0.5}\n",
    "\n",
    "    results = index.search(\n",
    "    query = query,\n",
    "    filter_dict = {'course': 'data-engineering-zoomcamp'},\n",
    "    boost_dict = boost,\n",
    "    num_results = 10\n",
    "    )\n",
    "\n",
    "    return results\n",
    "    "
   ]
  },
  {
   "cell_type": "code",
   "execution_count": 29,
   "id": "e1988445-81ff-4b16-8508-1279a51d17f3",
   "metadata": {},
   "outputs": [],
   "source": [
    "def build_prompt(query,search_results):\n",
    "\n",
    "    prompt_template = \"\"\"\n",
    "    You're a course teaching assistant. Answer the QESTION based on the CONTEXT. Use only the facts from the CONTEXT from the FAQ database\n",
    "    If the CONTEXT doesnt contain the answer, output NONE\n",
    "    \n",
    "    QUESTION:{question}\n",
    "    \n",
    "    CONTEXT : {context}\n",
    "    \"\"\"\n",
    "    \n",
    "    context = \"\"\n",
    "    \n",
    "    for doc in search_results:\n",
    "        context = context + f\"section : {doc['section']}\\nquestion: {doc['question']}\\nanswer: {doc['text']}\\n\\n\"\n",
    "\n",
    "    prompt = prompt_template.format(question = query,context = context).strip()\n",
    "\n",
    "    return prompt"
   ]
  },
  {
   "cell_type": "code",
   "execution_count": 30,
   "id": "0dc4c395-834d-491a-9760-49fbebbf7e9b",
   "metadata": {},
   "outputs": [],
   "source": [
    "def llm(prompt):\n",
    "    response = client.chat.completions.create(\n",
    "    messages=[\n",
    "        {\n",
    "            \"role\": \"user\",\n",
    "            \"content\": prompt,\n",
    "        }\n",
    "    ],\n",
    "    model=\"llama3-8b-8192\",\n",
    "    )\n",
    "    return response.choices[0].message.content    "
   ]
  },
  {
   "cell_type": "code",
   "execution_count": 31,
   "id": "81641fdb-77e6-4eeb-9bb7-e354c8c64243",
   "metadata": {},
   "outputs": [],
   "source": [
    "query = \"the course already started. Can I still enroll?\"\n",
    "\n",
    "def rag(query):\n",
    "    search_results = search(query)\n",
    "    \n",
    "    prompt = build_prompt(query,search_results)\n",
    "    \n",
    "    answer = llm(prompt)\n",
    "\n",
    "    return answer"
   ]
  },
  {
   "cell_type": "code",
   "execution_count": 32,
   "id": "a6cb9fa5-1c82-4d4b-a720-0b6643c16382",
   "metadata": {},
   "outputs": [
    {
     "data": {
      "text/plain": [
       "'The context for the question is \"How do I run Kafka?\" and it falls under the section \"Module 6: streaming with kafka\". According to the FAQ database, the answer is:\\n\\nIn the project directory, run:\\njava -cp build/libs/<jar_name>-1.0-SNAPSHOT.jar:out src/main/java/org/example/JsonProducer.java'"
      ]
     },
     "execution_count": 32,
     "metadata": {},
     "output_type": "execute_result"
    }
   ],
   "source": [
    "rag('How do I run kafka?')"
   ]
  },
  {
   "cell_type": "markdown",
   "id": "568f2518-2d4c-46ff-a3fa-2d4712ae6481",
   "metadata": {},
   "source": [
    "### Search with Elasticsearch "
   ]
  },
  {
   "cell_type": "code",
   "execution_count": 1,
   "id": "8712b6bb-ea84-40a7-af9e-cebb15eb203a",
   "metadata": {},
   "outputs": [],
   "source": [
    "from elasticsearch import Elasticsearch"
   ]
  },
  {
   "cell_type": "code",
   "execution_count": 2,
   "id": "9898d2f6-45eb-4f5b-99f6-1d26a00a68dc",
   "metadata": {},
   "outputs": [],
   "source": [
    "es_client = Elasticsearch('http://localhost:9200')\n"
   ]
  },
  {
   "cell_type": "code",
   "execution_count": 3,
   "id": "389562f3-23e2-43df-b06c-a5c80e6088c7",
   "metadata": {},
   "outputs": [
    {
     "data": {
      "text/plain": [
       "ObjectApiResponse({'name': 'a1b06b6d6e52', 'cluster_name': 'docker-cluster', 'cluster_uuid': 'KrlWJFFHRoiuYnw2FbqTMg', 'version': {'number': '8.4.3', 'build_flavor': 'default', 'build_type': 'docker', 'build_hash': '42f05b9372a9a4a470db3b52817899b99a76ee73', 'build_date': '2022-10-04T07:17:24.662462378Z', 'build_snapshot': False, 'lucene_version': '9.3.0', 'minimum_wire_compatibility_version': '7.17.0', 'minimum_index_compatibility_version': '7.0.0'}, 'tagline': 'You Know, for Search'})"
      ]
     },
     "execution_count": 3,
     "metadata": {},
     "output_type": "execute_result"
    }
   ],
   "source": [
    "es_client.info()"
   ]
  },
  {
   "cell_type": "code",
   "execution_count": 7,
   "id": "03d1afcc-695f-4834-9b24-8376c1c305b1",
   "metadata": {},
   "outputs": [
    {
     "data": {
      "text/plain": [
       "ObjectApiResponse({'acknowledged': True, 'shards_acknowledged': True, 'index': 'course-questions'})"
      ]
     },
     "execution_count": 7,
     "metadata": {},
     "output_type": "execute_result"
    }
   ],
   "source": [
    "index_settings = {\n",
    "    \n",
    "    \"settings\": {\n",
    "        \"number_of_shards\": 1,\n",
    "        \"number_of_replicas\": 0\n",
    "    },\n",
    "    \"mappings\": {\n",
    "        \"properties\": {\n",
    "            \"text\": {\"type\": \"text\"},\n",
    "            \"section\": {\"type\": \"text\"},\n",
    "            \"question\": {\"type\": \"text\"},\n",
    "            \"course\": {\"type\": \"keyword\"} \n",
    "        }\n",
    "    }\n",
    "}\n",
    "\n",
    "index_name = \"course-questions\"\n",
    "\n",
    "es_client.indices.create(index=index_name, body = index_settings)"
   ]
  },
  {
   "cell_type": "code",
   "execution_count": 34,
   "id": "b14c5fe8-b441-4d16-a49c-8a1ac7dc6fe9",
   "metadata": {},
   "outputs": [
    {
     "name": "stderr",
     "output_type": "stream",
     "text": [
      "/usr/local/python/3.10.13/lib/python3.10/site-packages/tqdm/auto.py:21: TqdmWarning: IProgress not found. Please update jupyter and ipywidgets. See https://ipywidgets.readthedocs.io/en/stable/user_install.html\n",
      "  from .autonotebook import tqdm as notebook_tqdm\n"
     ]
    }
   ],
   "source": [
    "from tqdm.auto import tqdm"
   ]
  },
  {
   "cell_type": "code",
   "execution_count": 36,
   "id": "3713c5b3-302d-4c22-9473-2c12ee0729fb",
   "metadata": {},
   "outputs": [
    {
     "name": "stderr",
     "output_type": "stream",
     "text": [
      "100%|██████████████████████████████████████████████████████████████████████████████████████████████████████████████████████████████████████████████████████████████████████████████| 948/948 [00:23<00:00, 40.08it/s]\n"
     ]
    }
   ],
   "source": [
    "for doc in tqdm(documents):\n",
    "    es_client.index(index=index_name, document = doc)"
   ]
  },
  {
   "cell_type": "code",
   "execution_count": 37,
   "id": "264e2f68-e4ad-4fb8-88bd-bda419b15064",
   "metadata": {},
   "outputs": [],
   "source": [
    "query = \"I just discovered the course. Can I still join?\""
   ]
  },
  {
   "cell_type": "code",
   "execution_count": 44,
   "id": "e9ba9dac-c0a0-4e6c-88a1-ee85b36e9004",
   "metadata": {},
   "outputs": [],
   "source": [
    "def elastic_search(query):\n",
    "    search_query = {\n",
    "        \"size\": 5,  #Number of results\n",
    "        \"query\": {\n",
    "            \"bool\": {\n",
    "                \"must\": {\n",
    "                    \"multi_match\": {\n",
    "                        \"query\": query,\n",
    "                        \"fields\": [\"question^3\", \"text\", \"section\"], #works similarly like boost \n",
    "                        \"type\": \"best_fields\"\n",
    "                    }\n",
    "                },\n",
    "                #Filtering component where we find context which is under course data engineering zoomcamp\n",
    "                \"filter\": {\n",
    "                    \"term\": {\n",
    "                        \"course\": \"data-engineering-zoomcamp\"\n",
    "                    }\n",
    "                }\n",
    "            }\n",
    "        }\n",
    "    }\n",
    "    response = es_client.search(index=index_name, body=search_query)\n",
    "    result_docs = []\n",
    "\n",
    "    for hit in response['hits']['hits']:\n",
    "        result_docs.append(hit['_source'])\n",
    "\n",
    "    return result_docs\n",
    "    \n",
    "    "
   ]
  },
  {
   "cell_type": "code",
   "execution_count": 46,
   "id": "c0907c46-153a-487d-93b5-2989eff3b72e",
   "metadata": {},
   "outputs": [],
   "source": [
    "query = \"the course already started. Can I still enroll?\"\n",
    "\n",
    "def rag(query):\n",
    "    search_results = elastic_search(query)\n",
    "    \n",
    "    prompt = build_prompt(query,search_results)\n",
    "    \n",
    "    answer = llm(prompt)\n",
    "\n",
    "    return answer"
   ]
  },
  {
   "cell_type": "code",
   "execution_count": 47,
   "id": "81de1f3d-3f13-41f8-b2ea-306ef411d7da",
   "metadata": {},
   "outputs": [
    {
     "data": {
      "text/plain": [
       "'Based on the CONTEXT, the ANSWER is:\\n\\nYes, even if the course already started, you can still enroll.'"
      ]
     },
     "execution_count": 47,
     "metadata": {},
     "output_type": "execute_result"
    }
   ],
   "source": [
    "rag(query)"
   ]
  }
 ],
 "metadata": {
  "kernelspec": {
   "display_name": "Python 3 (ipykernel)",
   "language": "python",
   "name": "python3"
  },
  "language_info": {
   "codemirror_mode": {
    "name": "ipython",
    "version": 3
   },
   "file_extension": ".py",
   "mimetype": "text/x-python",
   "name": "python",
   "nbconvert_exporter": "python",
   "pygments_lexer": "ipython3",
   "version": "3.10.13"
  }
 },
 "nbformat": 4,
 "nbformat_minor": 5
}
